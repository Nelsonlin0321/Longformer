{
 "cells": [
  {
   "cell_type": "code",
   "execution_count": 1,
   "metadata": {
    "id": "bglhO5Z0Mr4p"
   },
   "outputs": [],
   "source": [
    "\"\"\"import libaries\"\"\"\n",
    "from sklearn.datasets import fetch_20newsgroups\n",
    "from sklearn import metrics\n",
    "from tqdm import tqdm\n",
    "import re\n",
    "import matplotlib.pyplot as plt\n",
    "import random\n",
    "import numpy as np\n",
    "import os"
   ]
  },
  {
   "cell_type": "code",
   "execution_count": 2,
   "metadata": {
    "id": "Ky8dmWI80Aoa"
   },
   "outputs": [],
   "source": [
    "%%capture\n",
    "!pip install transformers"
   ]
  },
  {
   "cell_type": "code",
   "execution_count": 3,
   "metadata": {
    "id": "QAzU1fFbQAA4"
   },
   "outputs": [],
   "source": [
    "\"\"\"deep learning libaries\"\"\"\n",
    "import torch\n",
    "from torch import cuda\n",
    "from transformers import LongformerModel,LongformerTokenizer,LongformerForSequenceClassification,TrainingArguments,Trainer,EarlyStoppingCallback\n",
    "from torch.utils.data import Dataset,DataLoader"
   ]
  },
  {
   "cell_type": "code",
   "execution_count": 4,
   "metadata": {
    "colab": {
     "base_uri": "https://localhost:8080/"
    },
    "id": "2k0kZeLd_8n4",
    "outputId": "8426660a-cd7a-442f-a5b8-d5e47924c327"
   },
   "outputs": [
    {
     "name": "stdout",
     "output_type": "stream",
     "text": [
      "Drive already mounted at /content/drive; to attempt to forcibly remount, call drive.mount(\"/content/drive\", force_remount=True).\n"
     ]
    }
   ],
   "source": [
    "from google.colab import drive\n",
    "drive.mount('/content/drive')"
   ]
  },
  {
   "cell_type": "markdown",
   "metadata": {
    "id": "ItjimJ6TPu4Y"
   },
   "source": [
    "# 1) Import Data"
   ]
  },
  {
   "cell_type": "code",
   "execution_count": 5,
   "metadata": {
    "id": "rLUrjKNGL0W-"
   },
   "outputs": [],
   "source": [
    "\"\"\"Read Data\"\"\"\n",
    "data_train = fetch_20newsgroups(subset='train', random_state=21)\n",
    "data_test = fetch_20newsgroups(subset='test', random_state=21)"
   ]
  },
  {
   "cell_type": "code",
   "execution_count": 6,
   "metadata": {
    "id": "C0aiGa7rM1vI"
   },
   "outputs": [],
   "source": [
    "\"\"\"Clean Data\"\"\"\n",
    "def clean(data):\n",
    "    tmp_doc = []\n",
    "    for words in data.split():\n",
    "        if ':' in words or '@' in words or len(words) > 60:\n",
    "            pass\n",
    "        else:\n",
    "            c = re.sub(r'[>|-]', '', words)\n",
    "            # c = words.replace('>', '').replace('-', '')\n",
    "            if len(c) > 0:\n",
    "                tmp_doc.append(c)\n",
    "    tmp_doc = ' '.join(tmp_doc)\n",
    "    tmp_doc = re.sub(r'\\([A-Za-z \\.]*[A-Z][A-Za-z \\.]*\\) ', '', tmp_doc)\n",
    "    return tmp_doc"
   ]
  },
  {
   "cell_type": "code",
   "execution_count": 7,
   "metadata": {
    "id": "Yo1f--9hNqun"
   },
   "outputs": [],
   "source": [
    "def get_clean_data(raw_dataset):\n",
    "\n",
    "    clean_dataset = {}\n",
    "    doc_list = []\n",
    "    label_id_list = []\n",
    "    label_name_list = []\n",
    "    \n",
    "    for i in tqdm(range(len(raw_dataset.data))):\n",
    "        \n",
    "        doc, label = clean(raw_dataset.data[i]), raw_dataset.target[i]\n",
    "        label_name = raw_dataset.target_names[label]\n",
    "        doc_list.append(doc)\n",
    "        label_id_list.append(label)\n",
    "        label_name_list.append(label_name)\n",
    "    \n",
    "    clean_dataset['data'] = doc_list\n",
    "    clean_dataset['label_id'] = label_id_list\n",
    "    clean_dataset['label_name'] = label_name_list\n",
    "    \n",
    "    return clean_dataset"
   ]
  },
  {
   "cell_type": "code",
   "execution_count": 8,
   "metadata": {
    "colab": {
     "base_uri": "https://localhost:8080/"
    },
    "id": "DYEKeODlOZ7R",
    "outputId": "2c9d687b-f298-4d0e-f4f1-e24a0528eccd"
   },
   "outputs": [
    {
     "name": "stderr",
     "output_type": "stream",
     "text": [
      "100%|██████████| 11314/11314 [00:09<00:00, 1246.82it/s]\n"
     ]
    }
   ],
   "source": [
    "train_dataset = get_clean_data(data_train)"
   ]
  },
  {
   "cell_type": "code",
   "execution_count": 9,
   "metadata": {
    "colab": {
     "base_uri": "https://localhost:8080/"
    },
    "id": "vPBbIBIAOd13",
    "outputId": "925ab669-6572-4e7c-ebe5-90748713d977"
   },
   "outputs": [
    {
     "name": "stderr",
     "output_type": "stream",
     "text": [
      "100%|██████████| 7532/7532 [00:07<00:00, 977.21it/s] \n"
     ]
    }
   ],
   "source": [
    "test_dataset = get_clean_data(data_test)"
   ]
  },
  {
   "cell_type": "code",
   "execution_count": 10,
   "metadata": {
    "id": "WEUljcWDuJdW"
   },
   "outputs": [],
   "source": [
    "num_labels = len(set(data_train['target'])) #20"
   ]
  },
  {
   "cell_type": "code",
   "execution_count": 11,
   "metadata": {
    "colab": {
     "base_uri": "https://localhost:8080/",
     "height": 122
    },
    "id": "cA0XbytyOlG3",
    "outputId": "9eb938df-e67f-4940-8bde-d07a9aa0db8e"
   },
   "outputs": [
    {
     "data": {
      "application/vnd.google.colaboratory.intrinsic+json": {
       "type": "string"
      },
      "text/plain": [
       "'mathew Alt.Atheism Atheist Resources Books, addresses, music anything related to atheism FAQ, atheism, books, music, fiction, addresses, contacts Thu, 27 May 1993 GMT world Mantis Consultants, Cambridge. UK. 303 atheism/resources resources 5 April 1993 1.1 Atheist Resources Addresses of Atheist Organizations USA FREEDOM FROM RELIGION FOUNDATION Darwin fish bumper stickers and assorted other atheist paraphernalia are available from the Freedom From Religion Foundation in the US. Write FFRF, P.O. Box 750, Madison, WI 53701. (608) 2568900 EVOLUTION DESIGNS Evolution Designs sell the \"Darwin fish\". It\\'s a fish symbol, like the ones Christians stick on their cars, but with feet and the word \"Darwin\" written inside. The deluxe moulded 3D plastic fish is $4.95 postpaid in the US. Write Evolution Designs, 7119 Laurel Canyon #4, North Hollywood, CA 91605. People in the San Francisco Bay area can get Darwin Fish from Lynn Gold try mailing For net people who go to Lynn directly, the price is $4.95 per fish. SET FREE Atheist stickers, Tshirts and books. Write Set Free, P.O. Box 3065192, Garden Grove, CA 92642. AMERICAN ATHEIST PRESS AAP publish various atheist books critiques of the Bible, lists of Biblical contradictions, and so on. One such book \"The Bible Handbook\" by W.P. Ball and G.W. Foote. American Atheist Press. 372 pp. ISBN 0910309264, 2nd edition, 1986. Bible contradictions, absurdities, atrocities, immoralities... contains Ball, \"The Bible Contradicts Itself\", AAP. Based on the King James version of the Bible. Write American Atheist Press, P.O. Box 140195, Austin, TX 787140195. 7215 Cameron Road, Austin, TX 787522973. (512) 4581244 (512) 4679525 PROMETHEUS BOOKS Sell books including Haught\\'s \"Holy Horrors\" (see below). Write 700 East Amherst Street, Buffalo, New York 14215. (716) 8372475. An alternate address (which may be newer or older) Prometheus Books, 59 Glenn Drive, Buffalo, NY 142282197. AFRICANAMERICANS FOR HUMANISM An organization promoting black secular humanism and uncovering the history of black freethought. They publish a quarterly newsletter, AAH EXAMINER. Write Norm R. Allen, Jr., African Americans for Humanism, P.O. Box 664, Buffalo, NY 14226. United Kingdom Rationalist Press Association National Secular Society 88 Islington High Street 702 Holloway Road London N1 8EW London N19 3NL 071 226 7251 071 272 1266 British Humanist Association South Place Ethical Society 14 Lamb\\'s Conduit Passage Conway Hall London WC1R 4RH Red Lion Square 071 430 0908 London WC1R 4RL fax 071 430 1271 071 831 7723 The National Secular Society publish \"The Freethinker\", a monthly magazine founded in 1881. Germany IBKA e.V. Internationaler Bund der Konfessionslosen und Atheisten Postfach 880, D1000 Berlin 41. Germany. IBKA publish a MIZ. MIZVertrieb, Postfach 880, D1000 Berlin 41. Germany. For atheist books, write IBDK, Internationaler B\"ucherdienst der Konfessionslosen Postfach 3005, D3000 Hannover 1. Germany. 0511/211216 Books Fiction THOMAS M. DISCH \"The Santa Claus Compromise\" Short story. The ultimate proof that Santa exists. All characters and events are fictitious. Any similarity to living or dead gods uh, well... WALTER M. MILLER, JR \"A Canticle for Leibowitz\" One gem in this post atomic doomsday novel is the monks who spent their lives copying blueprints from \"Saint Leibowitz\", filling the sheets of paper with ink and leaving white lines and letters. EDGAR PANGBORN \"Davy\" Post atomic doomsday novel set in clerical states. The church, for example, forbids that anyone \"produce, describe or use any substance containing... atoms\". PHILIP K. DICK Philip K. Dick Dick wrote many philosophical and thoughtprovoking short stories and novels. His stories are bizarre at times, but very approachable. He wrote mainly SF, but he wrote about people, truth and religion rather than technology. Although he often believed that he had met some sort of God, he remained sceptical. Amongst his novels, the following are of some \"Galactic PotHealer\" A fallible alien deity summons a group of Earth craftsmen and women to a remote planet to raise a giant cathedral from beneath the oceans. When the deity begins to demand faith from the earthers, pothealer Joe Fernwright is unable to comply. A polished, ironic and amusing novel. \"A Maze of Death\" Noteworthy for its description of a technologybased religion. \"VALIS\" The schizophrenic hero searches for the hidden mysteries of Gnostic Christianity after reality is fired into his brain by a pink laser beam of unknown but possibly divine origin. He is accompanied by his dogmatic and dismissively atheist friend and assorted other odd characters. \"The Divine Invasion\" God invades Earth by making a young woman pregnant as she returns from another star system. Unfortunately she is terminally ill, and must be assisted by a dead man whose brain is wired to 24hour easy listening music. MARGARET ATWOOD \"The Handmaid\\'s Tale\" A story based on the premise that the US Congress is mysteriously assassinated, and fundamentalists quickly take charge of the nation to set it \"right\" again. The book is the diary of a woman\\'s life as she tries to live under the new Christian theocracy. Women\\'s right to own property is revoked, and their bank accounts are closed; sinful luxuries are outlawed, and the radio is only used for readings from the Bible. Crimes are punished doctors who performed legal abortions in the \"old world\" are hunted down and hanged. Atwood\\'s writing style is difficult to get used to at first, but the tale grows more and more chilling as it goes on. VARIOUS AUTHORS \"The Bible\" This somewhat dull and rambling work has often been criticized. However, it is probably worth reading, if only so that you\\'ll know what all the fuss is about. It exists in many different versions, so make sure you get the one true version. Books Nonfiction PETER DE ROSA \"Vicars of Christ\", Bantam Press, 1988 Although de Rosa seems to be Christian or even Catholic this is a very enlighting history of papal immoralities, adulteries, fallacies etc. (German \"Gottes erste Diener. Die dunkle Seite des Papsttums\", DroemerKnaur, 1989) MICHAEL MARTIN A Philosophical Justification\", Temple University Press, Philadelphia, USA. A detailed and scholarly justification of atheism. Contains an outstanding appendix defining terminology and usage in this (necessarily) tendentious area. Argues both for \"negative atheism\" (i.e. the \"nonbelief in the existence of god(s)\") and also for \"positive atheism\" (\"the belief in the nonexistence of god(s)\"). Includes great refutations of the most challenging arguments for god; particular attention is paid to refuting contempory theists such as Platinga and Swinburne. 541 pages. ISBN 0877226423 (hardcover; paperback also available) \"The Case Against Christianity\", Temple University Press A comprehensive critique of Christianity, in which he considers the best contemporary defences of Christianity and (ultimately) demonstrates that they are unsupportable and/or incoherent. 273 pages. ISBN 0877227675 JAMES TURNER \"Without God, Without Creed\", The Johns Hopkins University Press, Baltimore, MD, USA Subtitled \"The Origins of Unbelief in America\". Examines the way in which unbelief (whether agnostic or atheistic) became a mainstream alternative worldview. Focusses on the period 17701900, and while considering France and Britain the emphasis is on American, and particularly New England developments. \"Neither a religious history of secularization or atheism, Without God, Without Creed is, rather, the intellectual history of the fate of a single idea, the belief that God exists.\" 316 pages. ISBN (hardcover) 080182494X (paper) 0801834074 GEORGE SELDES \"The great thoughts\", Ballantine Books, New York, USA A \"dictionary of quotations\" of a different kind, concentrating on statements and writings which, explicitly or implicitly, present the person\\'s philosophy and worldview. Includes obscure (and often suppressed) opinions from many people. For some popular observations, traces the way in which various people expressed and twisted the idea over the centuries. Quite a number of the quotations are derived from Cardiff\\'s \"What Great Men Think of Religion\" and Noyes\\' \"Views of Religion\". 490 pages. ISBN (paper) 034529887X. RICHARD SWINBURNE \"The Existence of God (Revised Edition)\", Clarendon Paperbacks, Oxford This book is the second volume in a trilogy that began with \"The Coherence of Theism\" (1977) and was concluded with \"Faith and Reason\" (1981). In this work, Swinburne attempts to construct a series of inductive arguments for the existence of God. His arguments, which are somewhat tendentious and rely upon the imputation of late 20th century western Christian values and aesthetics to a God which is supposedly as simple as can be conceived, were decisively rejected in Mackie\\'s \"The Miracle of Theism\". In the revised edition of \"The Existence of God\", Swinburne includes an Appendix in which he makes a somewhat incoherent attempt to rebut Mackie. J. L. MACKIE \"The Miracle of Theism\", Oxford This (posthumous) volume contains a comprehensive review of the principal arguments for and against the existence of God. It ranges from the classical philosophical positions of Descartes, Anselm, Berkeley, Hume et al, through the moral arguments of Newman, Kant and Sidgwick, to the recent restatements of the classical theses by Plantinga and Swinburne. It also addresses those positions which push the concept of God beyond the realm of the rational, such as those of Kierkegaard, Kung and Philips, as well as \"replacements for God\" such as Lelie\\'s axiarchism. The book is a delight to read less formalistic and better written than Martin\\'s works, and refreshingly direct when compared with the handwaving of Swinburne. JAMES A. HAUGHT \"Holy An Illustrated History of Religious Murder and Madness\", Prometheus Books Looks at religious persecution from ancient times to the present day and not only by Christians. Library of Congress Catalog Card Number 8964079. 1990. NORM R. ALLEN, JR. \"African American an Anthology\" See the listing for African Americans for Humanism above. GORDON STEIN \"An Anthology of Atheism and Rationalism\", Prometheus Books An anthology covering a wide range of subjects, including \\'The Devil, Evil and Morality\\' and \\'The History of Freethought\\'. Comprehensive bibliography. EDMUND D. COHEN \"The Mind of The BibleBeliever\", Prometheus Books A study of why people become Christian fundamentalists, and what effect it has on them. GEORGE H. SMITH The Case Against God\", Prometheus Books Describes the positions of atheism, theism and agnosticism. Reviews many of the arguments used in favour of the existence of God. Concludes with an assessment of the impact of God on people\\'s lives. Net Resources There\\'s a small mailbased archive server at mantis.co.uk which carries archives of old alt.atheism.moderated articles and assorted other files. For more information, send mail to saying help send atheism/index and it will mail back a reply. mathew ÿ'"
      ]
     },
     "execution_count": 11,
     "metadata": {},
     "output_type": "execute_result"
    }
   ],
   "source": [
    "test_dataset['data'][0]"
   ]
  },
  {
   "cell_type": "code",
   "execution_count": 12,
   "metadata": {
    "id": "9mGrlSBbPIx3"
   },
   "outputs": [],
   "source": [
    "# !pip install transformers"
   ]
  },
  {
   "cell_type": "markdown",
   "metadata": {
    "id": "ZEzXJ3GnP1dL"
   },
   "source": [
    "# 2) Configuration"
   ]
  },
  {
   "cell_type": "code",
   "execution_count": 63,
   "metadata": {
    "id": "jsZFhXFgP7Co"
   },
   "outputs": [],
   "source": [
    "class config:\n",
    "    device = \"cuda\" if cuda.is_available() else \"cpu\"\n",
    "    model_type = \"LongformerModel\"\n",
    "    model_loader = \"LongformerForSequenceClassification\"\n",
    "    token_type = \"LongformerTokenizer\"\n",
    "    pretrain_model_path = 'allenai/longformer-base-4096'\n",
    "    gradient_checkpointing=True\n",
    "    max_length = 1024\n",
    "    batch_size = 24\n",
    "    model_save_path = \"/content/drive/My Drive/Colab Notebooks/Models/Longformer20News\" # data folder\n",
    "    learning_rate = 2e-5\n",
    "    evaluation_strategy = \"steps\"\n",
    "    eval_steps = 30\n",
    "    save_steps = 30\n",
    "    num_train_epochs = 3\n",
    "    num_labels = num_labels"
   ]
  },
  {
   "cell_type": "code",
   "execution_count": 14,
   "metadata": {
    "colab": {
     "base_uri": "https://localhost:8080/"
    },
    "id": "MOlvtiZmAwPQ",
    "outputId": "baacb170-922d-440e-a593-f70c460d4001"
   },
   "outputs": [
    {
     "data": {
      "text/plain": [
       "['runs']"
      ]
     },
     "execution_count": 14,
     "metadata": {},
     "output_type": "execute_result"
    }
   ],
   "source": [
    "os.listdir(config.model_save_path)"
   ]
  },
  {
   "cell_type": "markdown",
   "metadata": {
    "id": "mT-aFUveZY7U"
   },
   "source": [
    "# 3) Testing"
   ]
  },
  {
   "cell_type": "code",
   "execution_count": 15,
   "metadata": {
    "colab": {
     "base_uri": "https://localhost:8080/"
    },
    "id": "1I1tbSbuP-cv",
    "outputId": "9ab94eb0-5c70-48ce-f064-0281d1a99c00"
   },
   "outputs": [
    {
     "name": "stderr",
     "output_type": "stream",
     "text": [
      "Some weights of the model checkpoint at allenai/longformer-base-4096 were not used when initializing LongformerForSequenceClassification: ['lm_head.bias', 'lm_head.dense.bias', 'lm_head.layer_norm.bias', 'lm_head.decoder.weight', 'lm_head.layer_norm.weight', 'lm_head.dense.weight']\n",
      "- This IS expected if you are initializing LongformerForSequenceClassification from the checkpoint of a model trained on another task or with another architecture (e.g. initializing a BertForSequenceClassification model from a BertForPreTraining model).\n",
      "- This IS NOT expected if you are initializing LongformerForSequenceClassification from the checkpoint of a model that you expect to be exactly identical (initializing a BertForSequenceClassification model from a BertForSequenceClassification model).\n",
      "Some weights of LongformerForSequenceClassification were not initialized from the model checkpoint at allenai/longformer-base-4096 and are newly initialized: ['classifier.out_proj.weight', 'classifier.dense.weight', 'classifier.out_proj.bias', 'classifier.dense.bias']\n",
      "You should probably TRAIN this model on a down-stream task to be able to use it for predictions and inference.\n"
     ]
    }
   ],
   "source": [
    "# model = eval(config.model_type).from_pretrained(config.pretrain_model_path, config.gradient_checkpointing).to(config.device)\n",
    "model = LongformerForSequenceClassification.from_pretrained(\n",
    "    config.pretrain_model_path,gradient_checkpointing=True,\n",
    "    use_cache=False,\n",
    "    num_labels = config.num_labels).to(config.device)"
   ]
  },
  {
   "cell_type": "code",
   "execution_count": 16,
   "metadata": {
    "id": "aa4OEA5URvyn"
   },
   "outputs": [],
   "source": [
    "model_parameters_list = [name for name, w in model.named_parameters()]"
   ]
  },
  {
   "cell_type": "code",
   "execution_count": 17,
   "metadata": {
    "id": "fB5gctLZQXnn"
   },
   "outputs": [],
   "source": [
    "classfication_layers = [name for name in model_parameters_list if \"classifier\" in name]\n",
    "attention_layer = [name for name in model_parameters_list if \"embeddings\" in name]\n",
    "first_layer = [name for name in model_parameters_list if \"layer.0\" in name or \"layer.1\" in name]\n",
    "last_layer = [name for name in model_parameters_list if \"layer.11\" in name or \"layer.10\" in name]"
   ]
  },
  {
   "cell_type": "code",
   "execution_count": 18,
   "metadata": {
    "id": "L5eM3YbVSEPe"
   },
   "outputs": [],
   "source": [
    "trainable_parameters = classfication_layers + attention_layer + first_layer + last_layer"
   ]
  },
  {
   "cell_type": "code",
   "execution_count": 19,
   "metadata": {
    "id": "hCJjzWWGmla9"
   },
   "outputs": [],
   "source": [
    "# freeze parameter\n",
    "# due to the limited GPU memory\n",
    "for name,param in model.named_parameters():\n",
    "    if name not in trainable_parameters:\n",
    "        param.requires_grad = False"
   ]
  },
  {
   "cell_type": "code",
   "execution_count": 20,
   "metadata": {
    "id": "90B0YnxNSGJQ"
   },
   "outputs": [],
   "source": [
    "tokenizer = eval(config.token_type).from_pretrained(config.pretrain_model_path)"
   ]
  },
  {
   "cell_type": "code",
   "execution_count": 21,
   "metadata": {
    "colab": {
     "base_uri": "https://localhost:8080/",
     "height": 35
    },
    "id": "24GQqXNiO5BP",
    "outputId": "e008d591-923a-4674-9e9e-783c49ad5e9d"
   },
   "outputs": [
    {
     "data": {
      "application/vnd.google.colaboratory.intrinsic+json": {
       "type": "string"
      },
      "text/plain": [
       "'\"test input'"
      ]
     },
     "execution_count": 21,
     "metadata": {},
     "output_type": "execute_result"
    }
   ],
   "source": [
    "\"\"\"\"test input\"\"\""
   ]
  },
  {
   "cell_type": "code",
   "execution_count": 22,
   "metadata": {
    "id": "GOfwgeYcVRDy"
   },
   "outputs": [],
   "source": [
    "test_text = test_dataset['data'][0]"
   ]
  },
  {
   "cell_type": "code",
   "execution_count": 23,
   "metadata": {
    "colab": {
     "base_uri": "https://localhost:8080/",
     "height": 122
    },
    "id": "7OFYcVoY0kAi",
    "outputId": "b219a195-8625-410b-aa16-900d2f18c33d"
   },
   "outputs": [
    {
     "data": {
      "application/vnd.google.colaboratory.intrinsic+json": {
       "type": "string"
      },
      "text/plain": [
       "'mathew Alt.Atheism Atheist Resources Books, addresses, music anything related to atheism FAQ, atheism, books, music, fiction, addresses, contacts Thu, 27 May 1993 GMT world Mantis Consultants, Cambridge. UK. 303 atheism/resources resources 5 April 1993 1.1 Atheist Resources Addresses of Atheist Organizations USA FREEDOM FROM RELIGION FOUNDATION Darwin fish bumper stickers and assorted other atheist paraphernalia are available from the Freedom From Religion Foundation in the US. Write FFRF, P.O. Box 750, Madison, WI 53701. (608) 2568900 EVOLUTION DESIGNS Evolution Designs sell the \"Darwin fish\". It\\'s a fish symbol, like the ones Christians stick on their cars, but with feet and the word \"Darwin\" written inside. The deluxe moulded 3D plastic fish is $4.95 postpaid in the US. Write Evolution Designs, 7119 Laurel Canyon #4, North Hollywood, CA 91605. People in the San Francisco Bay area can get Darwin Fish from Lynn Gold try mailing For net people who go to Lynn directly, the price is $4.95 per fish. SET FREE Atheist stickers, Tshirts and books. Write Set Free, P.O. Box 3065192, Garden Grove, CA 92642. AMERICAN ATHEIST PRESS AAP publish various atheist books critiques of the Bible, lists of Biblical contradictions, and so on. One such book \"The Bible Handbook\" by W.P. Ball and G.W. Foote. American Atheist Press. 372 pp. ISBN 0910309264, 2nd edition, 1986. Bible contradictions, absurdities, atrocities, immoralities... contains Ball, \"The Bible Contradicts Itself\", AAP. Based on the King James version of the Bible. Write American Atheist Press, P.O. Box 140195, Austin, TX 787140195. 7215 Cameron Road, Austin, TX 787522973. (512) 4581244 (512) 4679525 PROMETHEUS BOOKS Sell books including Haught\\'s \"Holy Horrors\" (see below). Write 700 East Amherst Street, Buffalo, New York 14215. (716) 8372475. An alternate address (which may be newer or older) Prometheus Books, 59 Glenn Drive, Buffalo, NY 142282197. AFRICANAMERICANS FOR HUMANISM An organization promoting black secular humanism and uncovering the history of black freethought. They publish a quarterly newsletter, AAH EXAMINER. Write Norm R. Allen, Jr., African Americans for Humanism, P.O. Box 664, Buffalo, NY 14226. United Kingdom Rationalist Press Association National Secular Society 88 Islington High Street 702 Holloway Road London N1 8EW London N19 3NL 071 226 7251 071 272 1266 British Humanist Association South Place Ethical Society 14 Lamb\\'s Conduit Passage Conway Hall London WC1R 4RH Red Lion Square 071 430 0908 London WC1R 4RL fax 071 430 1271 071 831 7723 The National Secular Society publish \"The Freethinker\", a monthly magazine founded in 1881. Germany IBKA e.V. Internationaler Bund der Konfessionslosen und Atheisten Postfach 880, D1000 Berlin 41. Germany. IBKA publish a MIZ. MIZVertrieb, Postfach 880, D1000 Berlin 41. Germany. For atheist books, write IBDK, Internationaler B\"ucherdienst der Konfessionslosen Postfach 3005, D3000 Hannover 1. Germany. 0511/211216 Books Fiction THOMAS M. DISCH \"The Santa Claus Compromise\" Short story. The ultimate proof that Santa exists. All characters and events are fictitious. Any similarity to living or dead gods uh, well... WALTER M. MILLER, JR \"A Canticle for Leibowitz\" One gem in this post atomic doomsday novel is the monks who spent their lives copying blueprints from \"Saint Leibowitz\", filling the sheets of paper with ink and leaving white lines and letters. EDGAR PANGBORN \"Davy\" Post atomic doomsday novel set in clerical states. The church, for example, forbids that anyone \"produce, describe or use any substance containing... atoms\". PHILIP K. DICK Philip K. Dick Dick wrote many philosophical and thoughtprovoking short stories and novels. His stories are bizarre at times, but very approachable. He wrote mainly SF, but he wrote about people, truth and religion rather than technology. Although he often believed that he had met some sort of God, he remained sceptical. Amongst his novels, the following are of some \"Galactic PotHealer\" A fallible alien deity summons a group of Earth craftsmen and women to a remote planet to raise a giant cathedral from beneath the oceans. When the deity begins to demand faith from the earthers, pothealer Joe Fernwright is unable to comply. A polished, ironic and amusing novel. \"A Maze of Death\" Noteworthy for its description of a technologybased religion. \"VALIS\" The schizophrenic hero searches for the hidden mysteries of Gnostic Christianity after reality is fired into his brain by a pink laser beam of unknown but possibly divine origin. He is accompanied by his dogmatic and dismissively atheist friend and assorted other odd characters. \"The Divine Invasion\" God invades Earth by making a young woman pregnant as she returns from another star system. Unfortunately she is terminally ill, and must be assisted by a dead man whose brain is wired to 24hour easy listening music. MARGARET ATWOOD \"The Handmaid\\'s Tale\" A story based on the premise that the US Congress is mysteriously assassinated, and fundamentalists quickly take charge of the nation to set it \"right\" again. The book is the diary of a woman\\'s life as she tries to live under the new Christian theocracy. Women\\'s right to own property is revoked, and their bank accounts are closed; sinful luxuries are outlawed, and the radio is only used for readings from the Bible. Crimes are punished doctors who performed legal abortions in the \"old world\" are hunted down and hanged. Atwood\\'s writing style is difficult to get used to at first, but the tale grows more and more chilling as it goes on. VARIOUS AUTHORS \"The Bible\" This somewhat dull and rambling work has often been criticized. However, it is probably worth reading, if only so that you\\'ll know what all the fuss is about. It exists in many different versions, so make sure you get the one true version. Books Nonfiction PETER DE ROSA \"Vicars of Christ\", Bantam Press, 1988 Although de Rosa seems to be Christian or even Catholic this is a very enlighting history of papal immoralities, adulteries, fallacies etc. (German \"Gottes erste Diener. Die dunkle Seite des Papsttums\", DroemerKnaur, 1989) MICHAEL MARTIN A Philosophical Justification\", Temple University Press, Philadelphia, USA. A detailed and scholarly justification of atheism. Contains an outstanding appendix defining terminology and usage in this (necessarily) tendentious area. Argues both for \"negative atheism\" (i.e. the \"nonbelief in the existence of god(s)\") and also for \"positive atheism\" (\"the belief in the nonexistence of god(s)\"). Includes great refutations of the most challenging arguments for god; particular attention is paid to refuting contempory theists such as Platinga and Swinburne. 541 pages. ISBN 0877226423 (hardcover; paperback also available) \"The Case Against Christianity\", Temple University Press A comprehensive critique of Christianity, in which he considers the best contemporary defences of Christianity and (ultimately) demonstrates that they are unsupportable and/or incoherent. 273 pages. ISBN 0877227675 JAMES TURNER \"Without God, Without Creed\", The Johns Hopkins University Press, Baltimore, MD, USA Subtitled \"The Origins of Unbelief in America\". Examines the way in which unbelief (whether agnostic or atheistic) became a mainstream alternative worldview. Focusses on the period 17701900, and while considering France and Britain the emphasis is on American, and particularly New England developments. \"Neither a religious history of secularization or atheism, Without God, Without Creed is, rather, the intellectual history of the fate of a single idea, the belief that God exists.\" 316 pages. ISBN (hardcover) 080182494X (paper) 0801834074 GEORGE SELDES \"The great thoughts\", Ballantine Books, New York, USA A \"dictionary of quotations\" of a different kind, concentrating on statements and writings which, explicitly or implicitly, present the person\\'s philosophy and worldview. Includes obscure (and often suppressed) opinions from many people. For some popular observations, traces the way in which various people expressed and twisted the idea over the centuries. Quite a number of the quotations are derived from Cardiff\\'s \"What Great Men Think of Religion\" and Noyes\\' \"Views of Religion\". 490 pages. ISBN (paper) 034529887X. RICHARD SWINBURNE \"The Existence of God (Revised Edition)\", Clarendon Paperbacks, Oxford This book is the second volume in a trilogy that began with \"The Coherence of Theism\" (1977) and was concluded with \"Faith and Reason\" (1981). In this work, Swinburne attempts to construct a series of inductive arguments for the existence of God. His arguments, which are somewhat tendentious and rely upon the imputation of late 20th century western Christian values and aesthetics to a God which is supposedly as simple as can be conceived, were decisively rejected in Mackie\\'s \"The Miracle of Theism\". In the revised edition of \"The Existence of God\", Swinburne includes an Appendix in which he makes a somewhat incoherent attempt to rebut Mackie. J. L. MACKIE \"The Miracle of Theism\", Oxford This (posthumous) volume contains a comprehensive review of the principal arguments for and against the existence of God. It ranges from the classical philosophical positions of Descartes, Anselm, Berkeley, Hume et al, through the moral arguments of Newman, Kant and Sidgwick, to the recent restatements of the classical theses by Plantinga and Swinburne. It also addresses those positions which push the concept of God beyond the realm of the rational, such as those of Kierkegaard, Kung and Philips, as well as \"replacements for God\" such as Lelie\\'s axiarchism. The book is a delight to read less formalistic and better written than Martin\\'s works, and refreshingly direct when compared with the handwaving of Swinburne. JAMES A. HAUGHT \"Holy An Illustrated History of Religious Murder and Madness\", Prometheus Books Looks at religious persecution from ancient times to the present day and not only by Christians. Library of Congress Catalog Card Number 8964079. 1990. NORM R. ALLEN, JR. \"African American an Anthology\" See the listing for African Americans for Humanism above. GORDON STEIN \"An Anthology of Atheism and Rationalism\", Prometheus Books An anthology covering a wide range of subjects, including \\'The Devil, Evil and Morality\\' and \\'The History of Freethought\\'. Comprehensive bibliography. EDMUND D. COHEN \"The Mind of The BibleBeliever\", Prometheus Books A study of why people become Christian fundamentalists, and what effect it has on them. GEORGE H. SMITH The Case Against God\", Prometheus Books Describes the positions of atheism, theism and agnosticism. Reviews many of the arguments used in favour of the existence of God. Concludes with an assessment of the impact of God on people\\'s lives. Net Resources There\\'s a small mailbased archive server at mantis.co.uk which carries archives of old alt.atheism.moderated articles and assorted other files. For more information, send mail to saying help send atheism/index and it will mail back a reply. mathew ÿ'"
      ]
     },
     "execution_count": 23,
     "metadata": {},
     "output_type": "execute_result"
    }
   ],
   "source": [
    "test_text"
   ]
  },
  {
   "cell_type": "code",
   "execution_count": 24,
   "metadata": {
    "id": "QIjDlIFgaM_5"
   },
   "outputs": [],
   "source": [
    "def get_token(input_text):\n",
    "    inputs = tokenizer(\n",
    "            text = input_text,\n",
    "            max_length = 1000,\n",
    "            padding = \"max_length\",\n",
    "            return_token_type_ids = False,\n",
    "            return_tensors=  'pt',\n",
    "            truncation=True\n",
    "            )\n",
    "    return inputs"
   ]
  },
  {
   "cell_type": "code",
   "execution_count": 25,
   "metadata": {
    "id": "RWPto-TC0mva"
   },
   "outputs": [],
   "source": [
    "inputs = get_token(test_text)"
   ]
  },
  {
   "cell_type": "code",
   "execution_count": 26,
   "metadata": {
    "colab": {
     "base_uri": "https://localhost:8080/"
    },
    "id": "Bhq6kn0AFlc4",
    "outputId": "ff43b165-7523-4cd5-8055-1163a5e7a103"
   },
   "outputs": [
    {
     "data": {
      "text/plain": [
       "torch.Size([1, 1000])"
      ]
     },
     "execution_count": 26,
     "metadata": {},
     "output_type": "execute_result"
    }
   ],
   "source": [
    "inputs['input_ids'].shape\n"
   ]
  },
  {
   "cell_type": "code",
   "execution_count": 27,
   "metadata": {
    "colab": {
     "base_uri": "https://localhost:8080/"
    },
    "id": "lr3LA0eCV82Z",
    "outputId": "17a10638-7a98-4f3d-cfa0-59d1132b5055"
   },
   "outputs": [
    {
     "name": "stderr",
     "output_type": "stream",
     "text": [
      "/usr/local/lib/python3.7/dist-packages/ipykernel_launcher.py:1: UserWarning: To copy construct from a tensor, it is recommended to use sourceTensor.clone().detach() or sourceTensor.clone().detach().requires_grad_(True), rather than torch.tensor(sourceTensor).\n",
      "  \"\"\"Entry point for launching an IPython kernel.\n"
     ]
    }
   ],
   "source": [
    "inputs = {k:torch.tensor(v).to(config.device) for k,v in inputs.items()}"
   ]
  },
  {
   "cell_type": "code",
   "execution_count": 28,
   "metadata": {
    "id": "IgymZXf4XGfB"
   },
   "outputs": [],
   "source": [
    "with torch.no_grad():\n",
    "    test_ouput = model(**inputs)"
   ]
  },
  {
   "cell_type": "code",
   "execution_count": 29,
   "metadata": {
    "colab": {
     "base_uri": "https://localhost:8080/"
    },
    "id": "F5Bf4-MDX9bR",
    "outputId": "10839bec-079e-4766-e1ad-85f1d682b01e"
   },
   "outputs": [
    {
     "data": {
      "text/plain": [
       "torch.Size([1, 1000])"
      ]
     },
     "execution_count": 29,
     "metadata": {},
     "output_type": "execute_result"
    }
   ],
   "source": [
    "inputs['input_ids'].size()"
   ]
  },
  {
   "cell_type": "code",
   "execution_count": 30,
   "metadata": {
    "colab": {
     "base_uri": "https://localhost:8080/"
    },
    "id": "ecaYbA9uXtWh",
    "outputId": "6dbbec8d-0bc2-4c74-dc0d-3b461934506a"
   },
   "outputs": [
    {
     "data": {
      "text/plain": [
       "LongformerSequenceClassifierOutput([('logits',\n",
       "                                     tensor([[ 0.1299, -0.0146, -0.0763, -0.0037, -0.0331, -0.1145, -0.0883, -0.1619,\n",
       "                                              -0.0425,  0.0743, -0.2141,  0.1970,  0.1126, -0.0511, -0.0117,  0.0482,\n",
       "                                              -0.0111,  0.0414,  0.0881, -0.1324]], device='cuda:0'))])"
      ]
     },
     "execution_count": 30,
     "metadata": {},
     "output_type": "execute_result"
    }
   ],
   "source": [
    "test_ouput"
   ]
  },
  {
   "cell_type": "code",
   "execution_count": 31,
   "metadata": {
    "id": "ejrWEAz60_K6"
   },
   "outputs": [],
   "source": [
    "# test_ouput.pooler_output"
   ]
  },
  {
   "cell_type": "code",
   "execution_count": 32,
   "metadata": {
    "id": "vi7GcNpz7yFi"
   },
   "outputs": [],
   "source": [
    "# model"
   ]
  },
  {
   "cell_type": "code",
   "execution_count": 33,
   "metadata": {
    "id": "BAdyDnY9H44i"
   },
   "outputs": [],
   "source": [
    "\n",
    "# break"
   ]
  },
  {
   "cell_type": "code",
   "execution_count": 34,
   "metadata": {
    "colab": {
     "base_uri": "https://localhost:8080/",
     "height": 35
    },
    "id": "ca-K7fSrZJNR",
    "outputId": "2f8a7a88-8365-43e9-882c-d5c1f8c74bff"
   },
   "outputs": [
    {
     "data": {
      "application/vnd.google.colaboratory.intrinsic+json": {
       "type": "string"
      },
      "text/plain": [
       "'Get The Max Length'"
      ]
     },
     "execution_count": 34,
     "metadata": {},
     "output_type": "execute_result"
    }
   ],
   "source": [
    "\"\"\"Get The Max Length\"\"\""
   ]
  },
  {
   "cell_type": "code",
   "execution_count": 35,
   "metadata": {
    "id": "xNdbXETZ1f_T"
   },
   "outputs": [],
   "source": [
    "# total_doc = train_dataset['data'] + test_dataset['data']\n",
    "# ratio = 1\n",
    "# sample_size = int(len(total_doc) * ratio)"
   ]
  },
  {
   "cell_type": "code",
   "execution_count": 36,
   "metadata": {
    "id": "YAsyYLlq2EE5"
   },
   "outputs": [],
   "source": [
    "# sample_doc = random.sample(total_doc,sample_size)  "
   ]
  },
  {
   "cell_type": "code",
   "execution_count": 37,
   "metadata": {
    "id": "V4XnhFIV2Y8Q"
   },
   "outputs": [],
   "source": [
    "# doc_len_list = []\n",
    "# for doc in tqdm(sample_doc):\n",
    "#     temp = get_token(doc)\n",
    "#     doc_len_list.append(temp['input_ids'].shape[1])"
   ]
  },
  {
   "cell_type": "code",
   "execution_count": 38,
   "metadata": {
    "id": "VIIEPNcx2rGY"
   },
   "outputs": [],
   "source": [
    "# plt.hist(doc_len_list)"
   ]
  },
  {
   "cell_type": "code",
   "execution_count": 39,
   "metadata": {
    "id": "7fRdeKz-4UUx"
   },
   "outputs": [],
   "source": [
    "# doc_len_more_5000_list = [doc_len for doc_len in doc_len_list if doc_len > 5000]"
   ]
  },
  {
   "cell_type": "code",
   "execution_count": 40,
   "metadata": {
    "id": "GH-NNgZ24h4J"
   },
   "outputs": [],
   "source": [
    "# doc_len_less_5000_list = [doc_len for doc_len in doc_len_list if doc_len < 5000]"
   ]
  },
  {
   "cell_type": "code",
   "execution_count": 41,
   "metadata": {
    "id": "iD59auGc4doB"
   },
   "outputs": [],
   "source": [
    "# plt.hist(doc_len_more_5000_list)\n"
   ]
  },
  {
   "cell_type": "code",
   "execution_count": 42,
   "metadata": {
    "id": "XRt6rLh74TLW"
   },
   "outputs": [],
   "source": [
    "# plt.hist(doc_len_less_5000_list)"
   ]
  },
  {
   "cell_type": "code",
   "execution_count": 43,
   "metadata": {
    "id": "W_H6aF5B4yt3"
   },
   "outputs": [],
   "source": [
    "\n",
    "# doc_len_1000_5000_list = [doc_len for doc_len in doc_len_list if doc_len < 5000 and doc_len > 1000 ]"
   ]
  },
  {
   "cell_type": "code",
   "execution_count": 44,
   "metadata": {
    "id": "eVlyaDT144Rd"
   },
   "outputs": [],
   "source": [
    "# plt.hist(doc_len_1000_5000_list)"
   ]
  },
  {
   "cell_type": "code",
   "execution_count": 45,
   "metadata": {
    "id": "XLY-Q9La5AU4"
   },
   "outputs": [],
   "source": [
    "# np.percentile(doc_len_list,99.5)"
   ]
  },
  {
   "cell_type": "code",
   "execution_count": 46,
   "metadata": {
    "id": "3eePf8S1EKFw"
   },
   "outputs": [],
   "source": [
    "\n",
    "# np.percentile(doc_len_list,95)"
   ]
  },
  {
   "cell_type": "markdown",
   "metadata": {
    "id": "q1CgrdZe6rjR"
   },
   "source": [
    "# 4) Tokenization Features Engineering\n"
   ]
  },
  {
   "cell_type": "markdown",
   "metadata": {
    "id": "h7bUzJQg8KAo"
   },
   "source": [
    " - Create Dataset Object"
   ]
  },
  {
   "cell_type": "code",
   "execution_count": 47,
   "metadata": {
    "colab": {
     "base_uri": "https://localhost:8080/"
    },
    "id": "Pi_WTPaUFFiI",
    "outputId": "3daf25f4-7a2e-4355-8372-ad2be1861bd9"
   },
   "outputs": [
    {
     "data": {
      "text/plain": [
       "1024"
      ]
     },
     "execution_count": 47,
     "metadata": {},
     "output_type": "execute_result"
    }
   ],
   "source": [
    "config.max_length"
   ]
  },
  {
   "cell_type": "code",
   "execution_count": 48,
   "metadata": {
    "id": "qs9EiK0D8BAi"
   },
   "outputs": [],
   "source": [
    "class LongTextDataset(Dataset):\n",
    "    def __init__(self,doc_list,label_list,tokenizer,config,):\n",
    "\n",
    "        self.tokenizer = tokenizer\n",
    "        self.max_length = config.max_length\n",
    "        self.device = config.device\n",
    "        self.doc_list = doc_list\n",
    "        self.len = len(doc_list)\n",
    "        self.label_list = None\n",
    "        if label_list is not None:\n",
    "            self.label_list = label_list\n",
    "\n",
    "    def __len__(self):\n",
    "        return self.len\n",
    "    \n",
    "    def __getitem__(self,index):\n",
    "\n",
    "        doc = self.doc_list[index]\n",
    "        if self.label_list is not None:\n",
    "            label = self.label_list[index]\n",
    "\n",
    "        inputs = self.tokenizer(\n",
    "            text = doc,\n",
    "            add_special_tokens = True,\n",
    "            max_length = self.max_length,\n",
    "            padding = \"max_length\",\n",
    "            return_token_type_ids = False,\n",
    "            truncation=True\n",
    "            # return_tensors = 'pt',\n",
    "            )\n",
    "        \n",
    "        if self.label_list is not None:\n",
    "            inputs= {\n",
    "                'input_ids':torch.tensor(inputs['input_ids']),\n",
    "                'attention_mask':torch.tensor(inputs['attention_mask']),\n",
    "                'labels':torch.tensor(label),\n",
    "            }\n",
    "        else:\n",
    "            inputs= {\n",
    "                'input_ids':torch.tensor(inputs['input_ids']),\n",
    "                'attention_mask':torch.tensor(inputs['attention_mask']),\n",
    "            }\n",
    "\n",
    "        inputs = {k:v.to(\"cpu\") for (k,v) in inputs.items()}\n",
    "\n",
    "        return inputs"
   ]
  },
  {
   "cell_type": "code",
   "execution_count": 49,
   "metadata": {
    "colab": {
     "base_uri": "https://localhost:8080/"
    },
    "id": "J0DOMkaf-q5J",
    "outputId": "b8281093-7759-47f1-bcc7-c6880c9d4b4d"
   },
   "outputs": [
    {
     "data": {
      "text/plain": [
       "dict_keys(['data', 'label_id', 'label_name'])"
      ]
     },
     "execution_count": 49,
     "metadata": {},
     "output_type": "execute_result"
    }
   ],
   "source": [
    "\n",
    "test_dataset.keys()"
   ]
  },
  {
   "cell_type": "code",
   "execution_count": 53,
   "metadata": {
    "id": "kchH7GQh_0D4"
   },
   "outputs": [],
   "source": [
    "\n",
    "size = 0.2"
   ]
  },
  {
   "cell_type": "code",
   "execution_count": 55,
   "metadata": {
    "id": "kk6O1JKq_wNk"
   },
   "outputs": [],
   "source": [
    "train_size = int(len(train_dataset['data'] )* size)"
   ]
  },
  {
   "cell_type": "code",
   "execution_count": 56,
   "metadata": {
    "id": "QWbLz6Tk_yl6"
   },
   "outputs": [],
   "source": [
    "test_size = int(len(test_dataset['data'] )* size)\n"
   ]
  },
  {
   "cell_type": "code",
   "execution_count": 50,
   "metadata": {
    "id": "X7jQdZrM-LnD"
   },
   "outputs": [],
   "source": [
    "# test_dataset['label'][:10]"
   ]
  },
  {
   "cell_type": "code",
   "execution_count": 57,
   "metadata": {
    "id": "7jQWv-0m9lzX"
   },
   "outputs": [],
   "source": [
    "train_tokenized_dataset = LongTextDataset(train_dataset['data'][:train_size],train_dataset['label_id'][:train_size],tokenizer,config)\n",
    "test_tokenzed_dataset = LongTextDataset(test_dataset['data'][:test_size],test_dataset['label_id'][:test_size],tokenizer,config)"
   ]
  },
  {
   "cell_type": "code",
   "execution_count": 58,
   "metadata": {
    "id": "NuE8_VP88HLb"
   },
   "outputs": [],
   "source": [
    "# train_tokenized_dataset[0:12]"
   ]
  },
  {
   "cell_type": "code",
   "execution_count": 59,
   "metadata": {
    "colab": {
     "base_uri": "https://localhost:8080/"
    },
    "id": "rMAb9fq8_Fqb",
    "outputId": "c7db5e4e-3721-4de5-b939-6e8eedc70153"
   },
   "outputs": [
    {
     "data": {
      "text/plain": [
       "torch.Size([12, 1024])"
      ]
     },
     "execution_count": 59,
     "metadata": {},
     "output_type": "execute_result"
    }
   ],
   "source": [
    "train_tokenized_dataset[0:12]['input_ids'].shape"
   ]
  },
  {
   "cell_type": "markdown",
   "metadata": {
    "id": "0tN-yCsvezSL"
   },
   "source": [
    "# 5) Fine Tune LongFormer for long-text classification"
   ]
  },
  {
   "cell_type": "code",
   "execution_count": 64,
   "metadata": {
    "colab": {
     "base_uri": "https://localhost:8080/"
    },
    "id": "sCW31pNfBazZ",
    "outputId": "02b028ae-7e4a-41a5-cebe-9e72a9a40cc9"
   },
   "outputs": [
    {
     "data": {
      "text/plain": [
       "2262"
      ]
     },
     "execution_count": 64,
     "metadata": {},
     "output_type": "execute_result"
    }
   ],
   "source": [
    "len(train_tokenized_dataset)\n"
   ]
  },
  {
   "cell_type": "code",
   "execution_count": 65,
   "metadata": {
    "id": "zGl7D4GgBnEY"
   },
   "outputs": [],
   "source": [
    "steps = len(train_tokenized_dataset)//config.batch_size"
   ]
  },
  {
   "cell_type": "code",
   "execution_count": 66,
   "metadata": {
    "colab": {
     "base_uri": "https://localhost:8080/"
    },
    "id": "PIXd3CA5BrMp",
    "outputId": "41d89be7-a474-4c75-a84b-1a11393d9d79"
   },
   "outputs": [
    {
     "data": {
      "text/plain": [
       "94"
      ]
     },
     "execution_count": 66,
     "metadata": {},
     "output_type": "execute_result"
    }
   ],
   "source": [
    "steps"
   ]
  },
  {
   "cell_type": "code",
   "execution_count": 75,
   "metadata": {
    "id": "4OwBInh4_hs5"
   },
   "outputs": [],
   "source": [
    "def compute_metrics(inputs):\n",
    "    pred,labels = inputs\n",
    "    pred = np.argmax(pred,axis = 1)\n",
    "    accuracy = metrics.accuracy_score(labels,pred)\n",
    "    # recall = metrics.recall_score(labels,pred)\n",
    "    # precision = metrics.precision_score(labels,pred)\n",
    "    # f1 = metrics.f1_score(labels,pred)\n",
    "    # return {\"accuracy\":accuracy, \"recall\":recall, \"precision\":precision, \"recall\":recall, f1:\"f1\"}\n",
    "    return {\"accuracy\":accuracy}"
   ]
  },
  {
   "cell_type": "code",
   "execution_count": 76,
   "metadata": {
    "colab": {
     "base_uri": "https://localhost:8080/"
    },
    "id": "Fg8U4Y-NDNMR",
    "outputId": "e96df447-dcca-42b3-a0b8-56245fcb4e21"
   },
   "outputs": [
    {
     "data": {
      "text/plain": [
       "30"
      ]
     },
     "execution_count": 76,
     "metadata": {},
     "output_type": "execute_result"
    }
   ],
   "source": [
    "config.eval_steps"
   ]
  },
  {
   "cell_type": "code",
   "execution_count": 77,
   "metadata": {
    "colab": {
     "base_uri": "https://localhost:8080/"
    },
    "id": "1V4TeDch_jDI",
    "outputId": "8b353ad1-4e9e-4234-ed82-6c0a29a1e995"
   },
   "outputs": [
    {
     "name": "stderr",
     "output_type": "stream",
     "text": [
      "PyTorch: setting up devices\n",
      "The default value for the training argument `--report_to` will change in v5 (from all installed integrations to none). In v5, you will need to use `--report_to all` to get the same behavior as now. You should start updating your code and make this info disappear :-).\n"
     ]
    }
   ],
   "source": [
    "args = TrainingArguments(\n",
    "    output_dir=config.model_save_path,\n",
    "    overwrite_output_dir = True,\n",
    "    evaluation_strategy = \"steps\",\n",
    "    eval_steps = config.eval_steps,\n",
    "    save_steps = config.save_steps,\n",
    "    logging_steps = config.eval_steps,\n",
    "    num_train_epochs = config.num_train_epochs,\n",
    "    do_train = True,\n",
    "    do_eval = True,\n",
    "    learning_rate = config.learning_rate,\n",
    "    per_device_train_batch_size = config.batch_size,\n",
    "    per_device_eval_batch_size = config.batch_size,\n",
    "    seed = 0,\n",
    "    load_best_model_at_end = True\n",
    ")\n",
    "\n"
   ]
  },
  {
   "cell_type": "code",
   "execution_count": 78,
   "metadata": {
    "colab": {
     "base_uri": "https://localhost:8080/"
    },
    "id": "fXimdNmzFUbQ",
    "outputId": "3d6b9613-c139-4574-8bcd-604df33131e9"
   },
   "outputs": [
    {
     "data": {
      "text/plain": [
       "torch.Size([10, 1024])"
      ]
     },
     "execution_count": 78,
     "metadata": {},
     "output_type": "execute_result"
    }
   ],
   "source": [
    "\n",
    "train_tokenized_dataset[:10]['input_ids'].shape"
   ]
  },
  {
   "cell_type": "code",
   "execution_count": 79,
   "metadata": {
    "id": "XtwPwUEbCvXI"
   },
   "outputs": [],
   "source": [
    "trainer  = Trainer(\n",
    "    model = model,\n",
    "    args = args,\n",
    "    train_dataset =train_tokenized_dataset,\n",
    "    eval_dataset = test_tokenzed_dataset,\n",
    "    compute_metrics = compute_metrics,\n",
    "    callbacks = [EarlyStoppingCallback] \n",
    ")\n"
   ]
  },
  {
   "cell_type": "code",
   "execution_count": null,
   "metadata": {
    "colab": {
     "base_uri": "https://localhost:8080/",
     "height": 1000
    },
    "id": "gzSoXjiVC3t9",
    "outputId": "06833b53-e415-4fa4-8fa9-041e0346153b",
    "scrolled": false
   },
   "outputs": [
    {
     "name": "stderr",
     "output_type": "stream",
     "text": [
      "/usr/local/lib/python3.7/dist-packages/transformers/optimization.py:309: FutureWarning: This implementation of AdamW is deprecated and will be removed in a future version. Use the PyTorch implementation torch.optim.AdamW instead, or set `no_deprecation_warning=True` to disable this warning\n",
      "  FutureWarning,\n",
      "***** Running training *****\n",
      "  Num examples = 2262\n",
      "  Num Epochs = 3\n",
      "  Instantaneous batch size per device = 24\n",
      "  Total train batch size (w. parallel, distributed & accumulation) = 24\n",
      "  Gradient Accumulation steps = 1\n",
      "  Total optimization steps = 285\n",
      "Initializing global attention on CLS token...\n"
     ]
    },
    {
     "data": {
      "text/html": [
       "\n",
       "    <div>\n",
       "      \n",
       "      <progress value='211' max='285' style='width:300px; height:20px; vertical-align: middle;'></progress>\n",
       "      [211/285 1:55:23 < 40:51, 0.03 it/s, Epoch 2.21/3]\n",
       "    </div>\n",
       "    <table border=\"1\" class=\"dataframe\">\n",
       "  <thead>\n",
       " <tr style=\"text-align: left;\">\n",
       "      <th>Step</th>\n",
       "      <th>Training Loss</th>\n",
       "      <th>Validation Loss</th>\n",
       "      <th>Accuracy</th>\n",
       "    </tr>\n",
       "  </thead>\n",
       "  <tbody>\n",
       "    <tr>\n",
       "      <td>30</td>\n",
       "      <td>2.935200</td>\n",
       "      <td>2.938626</td>\n",
       "      <td>0.086985</td>\n",
       "    </tr>\n",
       "    <tr>\n",
       "      <td>60</td>\n",
       "      <td>2.891700</td>\n",
       "      <td>2.783743</td>\n",
       "      <td>0.154050</td>\n",
       "    </tr>\n",
       "    <tr>\n",
       "      <td>90</td>\n",
       "      <td>2.638700</td>\n",
       "      <td>2.366567</td>\n",
       "      <td>0.444887</td>\n",
       "    </tr>\n",
       "    <tr>\n",
       "      <td>120</td>\n",
       "      <td>2.231900</td>\n",
       "      <td>1.953581</td>\n",
       "      <td>0.534529</td>\n",
       "    </tr>\n",
       "    <tr>\n",
       "      <td>150</td>\n",
       "      <td>1.951400</td>\n",
       "      <td>1.650503</td>\n",
       "      <td>0.631474</td>\n",
       "    </tr>\n",
       "    <tr>\n",
       "      <td>180</td>\n",
       "      <td>1.741000</td>\n",
       "      <td>1.480383</td>\n",
       "      <td>0.616866</td>\n",
       "    </tr>\n",
       "  </tbody>\n",
       "</table><p>\n",
       "    <div>\n",
       "      \n",
       "      <progress value='45' max='63' style='width:300px; height:20px; vertical-align: middle;'></progress>\n",
       "      [45/63 04:04 < 01:39, 0.18 it/s]\n",
       "    </div>\n",
       "    "
      ],
      "text/plain": [
       "<IPython.core.display.HTML object>"
      ]
     },
     "metadata": {},
     "output_type": "display_data"
    },
    {
     "name": "stderr",
     "output_type": "stream",
     "text": [
      "Initializing global attention on CLS token...\n",
      "Initializing global attention on CLS token...\n",
      "Initializing global attention on CLS token...\n",
      "Initializing global attention on CLS token...\n",
      "Initializing global attention on CLS token...\n",
      "Initializing global attention on CLS token...\n",
      "Initializing global attention on CLS token...\n",
      "Initializing global attention on CLS token...\n",
      "Initializing global attention on CLS token...\n",
      "Initializing global attention on CLS token...\n",
      "Initializing global attention on CLS token...\n",
      "Initializing global attention on CLS token...\n",
      "Initializing global attention on CLS token...\n",
      "Initializing global attention on CLS token...\n",
      "Initializing global attention on CLS token...\n",
      "Initializing global attention on CLS token...\n",
      "Initializing global attention on CLS token...\n",
      "Initializing global attention on CLS token...\n",
      "Initializing global attention on CLS token...\n",
      "Initializing global attention on CLS token...\n",
      "Initializing global attention on CLS token...\n",
      "Initializing global attention on CLS token...\n",
      "Initializing global attention on CLS token...\n",
      "Initializing global attention on CLS token...\n",
      "Initializing global attention on CLS token...\n",
      "Initializing global attention on CLS token...\n",
      "Initializing global attention on CLS token...\n",
      "Initializing global attention on CLS token...\n",
      "Initializing global attention on CLS token...\n",
      "***** Running Evaluation *****\n",
      "  Num examples = 1506\n",
      "  Batch size = 24\n",
      "Initializing global attention on CLS token...\n",
      "Initializing global attention on CLS token...\n",
      "Initializing global attention on CLS token...\n",
      "Initializing global attention on CLS token...\n",
      "Initializing global attention on CLS token...\n",
      "Initializing global attention on CLS token...\n",
      "Initializing global attention on CLS token...\n",
      "Initializing global attention on CLS token...\n",
      "Initializing global attention on CLS token...\n",
      "Initializing global attention on CLS token...\n",
      "Initializing global attention on CLS token...\n",
      "Initializing global attention on CLS token...\n",
      "Initializing global attention on CLS token...\n",
      "Initializing global attention on CLS token...\n",
      "Initializing global attention on CLS token...\n",
      "Initializing global attention on CLS token...\n",
      "Initializing global attention on CLS token...\n",
      "Initializing global attention on CLS token...\n",
      "Initializing global attention on CLS token...\n",
      "Initializing global attention on CLS token...\n",
      "Initializing global attention on CLS token...\n",
      "Initializing global attention on CLS token...\n",
      "Initializing global attention on CLS token...\n",
      "Initializing global attention on CLS token...\n",
      "Initializing global attention on CLS token...\n",
      "Initializing global attention on CLS token...\n",
      "Initializing global attention on CLS token...\n",
      "Initializing global attention on CLS token...\n",
      "Initializing global attention on CLS token...\n",
      "Initializing global attention on CLS token...\n",
      "Initializing global attention on CLS token...\n",
      "Initializing global attention on CLS token...\n",
      "Initializing global attention on CLS token...\n",
      "Initializing global attention on CLS token...\n",
      "Initializing global attention on CLS token...\n",
      "Initializing global attention on CLS token...\n",
      "Initializing global attention on CLS token...\n",
      "Initializing global attention on CLS token...\n",
      "Initializing global attention on CLS token...\n",
      "Initializing global attention on CLS token...\n",
      "Initializing global attention on CLS token...\n",
      "Initializing global attention on CLS token...\n",
      "Initializing global attention on CLS token...\n",
      "Initializing global attention on CLS token...\n",
      "Initializing global attention on CLS token...\n",
      "Initializing global attention on CLS token...\n",
      "Initializing global attention on CLS token...\n",
      "Initializing global attention on CLS token...\n",
      "Initializing global attention on CLS token...\n",
      "Initializing global attention on CLS token...\n",
      "Initializing global attention on CLS token...\n",
      "Initializing global attention on CLS token...\n",
      "Initializing global attention on CLS token...\n",
      "Initializing global attention on CLS token...\n",
      "Initializing global attention on CLS token...\n",
      "Initializing global attention on CLS token...\n",
      "Initializing global attention on CLS token...\n",
      "Initializing global attention on CLS token...\n",
      "Initializing global attention on CLS token...\n",
      "Initializing global attention on CLS token...\n",
      "Initializing global attention on CLS token...\n",
      "Initializing global attention on CLS token...\n",
      "Initializing global attention on CLS token...\n",
      "Saving model checkpoint to /content/drive/My Drive/Colab Notebooks/Models/Longformer20News/checkpoint-30\n",
      "Configuration saved in /content/drive/My Drive/Colab Notebooks/Models/Longformer20News/checkpoint-30/config.json\n",
      "Model weights saved in /content/drive/My Drive/Colab Notebooks/Models/Longformer20News/checkpoint-30/pytorch_model.bin\n",
      "Initializing global attention on CLS token...\n",
      "Initializing global attention on CLS token...\n",
      "Initializing global attention on CLS token...\n",
      "Initializing global attention on CLS token...\n",
      "Initializing global attention on CLS token...\n",
      "Initializing global attention on CLS token...\n",
      "Initializing global attention on CLS token...\n",
      "Initializing global attention on CLS token...\n",
      "Initializing global attention on CLS token...\n",
      "Initializing global attention on CLS token...\n",
      "Initializing global attention on CLS token...\n",
      "Initializing global attention on CLS token...\n",
      "Initializing global attention on CLS token...\n",
      "Initializing global attention on CLS token...\n",
      "Initializing global attention on CLS token...\n",
      "Initializing global attention on CLS token...\n",
      "Initializing global attention on CLS token...\n",
      "Initializing global attention on CLS token...\n",
      "Initializing global attention on CLS token...\n",
      "Initializing global attention on CLS token...\n",
      "Initializing global attention on CLS token...\n",
      "Initializing global attention on CLS token...\n",
      "Initializing global attention on CLS token...\n",
      "Initializing global attention on CLS token...\n",
      "Initializing global attention on CLS token...\n",
      "Initializing global attention on CLS token...\n",
      "Initializing global attention on CLS token...\n",
      "Initializing global attention on CLS token...\n",
      "Initializing global attention on CLS token...\n",
      "Initializing global attention on CLS token...\n",
      "***** Running Evaluation *****\n",
      "  Num examples = 1506\n",
      "  Batch size = 24\n",
      "Initializing global attention on CLS token...\n",
      "Initializing global attention on CLS token...\n",
      "Initializing global attention on CLS token...\n",
      "Initializing global attention on CLS token...\n",
      "Initializing global attention on CLS token...\n",
      "Initializing global attention on CLS token...\n",
      "Initializing global attention on CLS token...\n",
      "Initializing global attention on CLS token...\n",
      "Initializing global attention on CLS token...\n",
      "Initializing global attention on CLS token...\n",
      "Initializing global attention on CLS token...\n",
      "Initializing global attention on CLS token...\n",
      "Initializing global attention on CLS token...\n",
      "Initializing global attention on CLS token...\n",
      "Initializing global attention on CLS token...\n",
      "Initializing global attention on CLS token...\n",
      "Initializing global attention on CLS token...\n",
      "Initializing global attention on CLS token...\n",
      "Initializing global attention on CLS token...\n",
      "Initializing global attention on CLS token...\n",
      "Initializing global attention on CLS token...\n",
      "Initializing global attention on CLS token...\n",
      "Initializing global attention on CLS token...\n",
      "Initializing global attention on CLS token...\n",
      "Initializing global attention on CLS token...\n",
      "Initializing global attention on CLS token...\n",
      "Initializing global attention on CLS token...\n",
      "Initializing global attention on CLS token...\n",
      "Initializing global attention on CLS token...\n",
      "Initializing global attention on CLS token...\n",
      "Initializing global attention on CLS token...\n",
      "Initializing global attention on CLS token...\n",
      "Initializing global attention on CLS token...\n",
      "Initializing global attention on CLS token...\n",
      "Initializing global attention on CLS token...\n",
      "Initializing global attention on CLS token...\n",
      "Initializing global attention on CLS token...\n",
      "Initializing global attention on CLS token...\n",
      "Initializing global attention on CLS token...\n",
      "Initializing global attention on CLS token...\n",
      "Initializing global attention on CLS token...\n",
      "Initializing global attention on CLS token...\n",
      "Initializing global attention on CLS token...\n",
      "Initializing global attention on CLS token...\n",
      "Initializing global attention on CLS token...\n",
      "Initializing global attention on CLS token...\n",
      "Initializing global attention on CLS token...\n",
      "Initializing global attention on CLS token...\n",
      "Initializing global attention on CLS token...\n",
      "Initializing global attention on CLS token...\n",
      "Initializing global attention on CLS token...\n",
      "Initializing global attention on CLS token...\n",
      "Initializing global attention on CLS token...\n",
      "Initializing global attention on CLS token...\n",
      "Initializing global attention on CLS token...\n",
      "Initializing global attention on CLS token...\n",
      "Initializing global attention on CLS token...\n",
      "Initializing global attention on CLS token...\n",
      "Initializing global attention on CLS token...\n",
      "Initializing global attention on CLS token...\n",
      "Initializing global attention on CLS token...\n",
      "Initializing global attention on CLS token...\n",
      "Initializing global attention on CLS token...\n",
      "Saving model checkpoint to /content/drive/My Drive/Colab Notebooks/Models/Longformer20News/checkpoint-60\n",
      "Configuration saved in /content/drive/My Drive/Colab Notebooks/Models/Longformer20News/checkpoint-60/config.json\n",
      "Model weights saved in /content/drive/My Drive/Colab Notebooks/Models/Longformer20News/checkpoint-60/pytorch_model.bin\n",
      "Initializing global attention on CLS token...\n",
      "Initializing global attention on CLS token...\n",
      "Initializing global attention on CLS token...\n",
      "Initializing global attention on CLS token...\n",
      "Initializing global attention on CLS token...\n",
      "Initializing global attention on CLS token...\n",
      "Initializing global attention on CLS token...\n",
      "Initializing global attention on CLS token...\n",
      "Initializing global attention on CLS token...\n",
      "Initializing global attention on CLS token...\n",
      "Initializing global attention on CLS token...\n",
      "Initializing global attention on CLS token...\n",
      "Initializing global attention on CLS token...\n",
      "Initializing global attention on CLS token...\n",
      "Initializing global attention on CLS token...\n",
      "Initializing global attention on CLS token...\n",
      "Initializing global attention on CLS token...\n",
      "Initializing global attention on CLS token...\n",
      "Initializing global attention on CLS token...\n",
      "Initializing global attention on CLS token...\n",
      "Initializing global attention on CLS token...\n",
      "Initializing global attention on CLS token...\n",
      "Initializing global attention on CLS token...\n",
      "Initializing global attention on CLS token...\n",
      "Initializing global attention on CLS token...\n",
      "Initializing global attention on CLS token...\n",
      "Initializing global attention on CLS token...\n",
      "Initializing global attention on CLS token...\n",
      "Initializing global attention on CLS token...\n",
      "Initializing global attention on CLS token...\n",
      "***** Running Evaluation *****\n",
      "  Num examples = 1506\n",
      "  Batch size = 24\n",
      "Initializing global attention on CLS token...\n",
      "Initializing global attention on CLS token...\n",
      "Initializing global attention on CLS token...\n",
      "Initializing global attention on CLS token...\n",
      "Initializing global attention on CLS token...\n",
      "Initializing global attention on CLS token...\n",
      "Initializing global attention on CLS token...\n",
      "Initializing global attention on CLS token...\n",
      "Initializing global attention on CLS token...\n",
      "Initializing global attention on CLS token...\n",
      "Initializing global attention on CLS token...\n",
      "Initializing global attention on CLS token...\n",
      "Initializing global attention on CLS token...\n",
      "Initializing global attention on CLS token...\n",
      "Initializing global attention on CLS token...\n",
      "Initializing global attention on CLS token...\n",
      "Initializing global attention on CLS token...\n",
      "Initializing global attention on CLS token...\n",
      "Initializing global attention on CLS token...\n",
      "Initializing global attention on CLS token...\n",
      "Initializing global attention on CLS token...\n",
      "Initializing global attention on CLS token...\n",
      "Initializing global attention on CLS token...\n",
      "Initializing global attention on CLS token...\n",
      "Initializing global attention on CLS token...\n",
      "Initializing global attention on CLS token...\n",
      "Initializing global attention on CLS token...\n",
      "Initializing global attention on CLS token...\n",
      "Initializing global attention on CLS token...\n",
      "Initializing global attention on CLS token...\n",
      "Initializing global attention on CLS token...\n",
      "Initializing global attention on CLS token...\n",
      "Initializing global attention on CLS token...\n",
      "Initializing global attention on CLS token...\n",
      "Initializing global attention on CLS token...\n",
      "Initializing global attention on CLS token...\n",
      "Initializing global attention on CLS token...\n",
      "Initializing global attention on CLS token...\n",
      "Initializing global attention on CLS token...\n",
      "Initializing global attention on CLS token...\n",
      "Initializing global attention on CLS token...\n",
      "Initializing global attention on CLS token...\n",
      "Initializing global attention on CLS token...\n",
      "Initializing global attention on CLS token...\n",
      "Initializing global attention on CLS token...\n",
      "Initializing global attention on CLS token...\n",
      "Initializing global attention on CLS token...\n",
      "Initializing global attention on CLS token...\n",
      "Initializing global attention on CLS token...\n",
      "Initializing global attention on CLS token...\n",
      "Initializing global attention on CLS token...\n",
      "Initializing global attention on CLS token...\n",
      "Initializing global attention on CLS token...\n",
      "Initializing global attention on CLS token...\n",
      "Initializing global attention on CLS token...\n",
      "Initializing global attention on CLS token...\n",
      "Initializing global attention on CLS token...\n",
      "Initializing global attention on CLS token...\n",
      "Initializing global attention on CLS token...\n",
      "Initializing global attention on CLS token...\n",
      "Initializing global attention on CLS token...\n",
      "Initializing global attention on CLS token...\n",
      "Initializing global attention on CLS token...\n",
      "Saving model checkpoint to /content/drive/My Drive/Colab Notebooks/Models/Longformer20News/checkpoint-90\n",
      "Configuration saved in /content/drive/My Drive/Colab Notebooks/Models/Longformer20News/checkpoint-90/config.json\n",
      "Model weights saved in /content/drive/My Drive/Colab Notebooks/Models/Longformer20News/checkpoint-90/pytorch_model.bin\n",
      "Initializing global attention on CLS token...\n",
      "Initializing global attention on CLS token...\n",
      "Initializing global attention on CLS token...\n",
      "Initializing global attention on CLS token...\n",
      "Initializing global attention on CLS token...\n",
      "Initializing global attention on CLS token...\n",
      "Initializing global attention on CLS token...\n",
      "Initializing global attention on CLS token...\n",
      "Initializing global attention on CLS token...\n",
      "Initializing global attention on CLS token...\n",
      "Initializing global attention on CLS token...\n",
      "Initializing global attention on CLS token...\n",
      "Initializing global attention on CLS token...\n",
      "Initializing global attention on CLS token...\n",
      "Initializing global attention on CLS token...\n",
      "Initializing global attention on CLS token...\n",
      "Initializing global attention on CLS token...\n",
      "Initializing global attention on CLS token...\n",
      "Initializing global attention on CLS token...\n",
      "Initializing global attention on CLS token...\n",
      "Initializing global attention on CLS token...\n",
      "Initializing global attention on CLS token...\n",
      "Initializing global attention on CLS token...\n",
      "Initializing global attention on CLS token...\n",
      "Initializing global attention on CLS token...\n",
      "Initializing global attention on CLS token...\n",
      "Initializing global attention on CLS token...\n",
      "Initializing global attention on CLS token...\n",
      "Initializing global attention on CLS token...\n",
      "Initializing global attention on CLS token...\n",
      "***** Running Evaluation *****\n",
      "  Num examples = 1506\n",
      "  Batch size = 24\n",
      "Initializing global attention on CLS token...\n",
      "Initializing global attention on CLS token...\n",
      "Initializing global attention on CLS token...\n",
      "Initializing global attention on CLS token...\n",
      "Initializing global attention on CLS token...\n",
      "Initializing global attention on CLS token...\n",
      "Initializing global attention on CLS token...\n",
      "Initializing global attention on CLS token...\n",
      "Initializing global attention on CLS token...\n",
      "Initializing global attention on CLS token...\n",
      "Initializing global attention on CLS token...\n",
      "Initializing global attention on CLS token...\n",
      "Initializing global attention on CLS token...\n",
      "Initializing global attention on CLS token...\n",
      "Initializing global attention on CLS token...\n",
      "Initializing global attention on CLS token...\n",
      "Initializing global attention on CLS token...\n",
      "Initializing global attention on CLS token...\n",
      "Initializing global attention on CLS token...\n",
      "Initializing global attention on CLS token...\n",
      "Initializing global attention on CLS token...\n",
      "Initializing global attention on CLS token...\n",
      "Initializing global attention on CLS token...\n",
      "Initializing global attention on CLS token...\n",
      "Initializing global attention on CLS token...\n",
      "Initializing global attention on CLS token...\n",
      "Initializing global attention on CLS token...\n",
      "Initializing global attention on CLS token...\n",
      "Initializing global attention on CLS token...\n",
      "Initializing global attention on CLS token...\n",
      "Initializing global attention on CLS token...\n",
      "Initializing global attention on CLS token...\n",
      "Initializing global attention on CLS token...\n",
      "Initializing global attention on CLS token...\n",
      "Initializing global attention on CLS token...\n",
      "Initializing global attention on CLS token...\n",
      "Initializing global attention on CLS token...\n",
      "Initializing global attention on CLS token...\n",
      "Initializing global attention on CLS token...\n",
      "Initializing global attention on CLS token...\n",
      "Initializing global attention on CLS token...\n",
      "Initializing global attention on CLS token...\n",
      "Initializing global attention on CLS token...\n",
      "Initializing global attention on CLS token...\n",
      "Initializing global attention on CLS token...\n",
      "Initializing global attention on CLS token...\n",
      "Initializing global attention on CLS token...\n",
      "Initializing global attention on CLS token...\n",
      "Initializing global attention on CLS token...\n",
      "Initializing global attention on CLS token...\n",
      "Initializing global attention on CLS token...\n",
      "Initializing global attention on CLS token...\n",
      "Initializing global attention on CLS token...\n",
      "Initializing global attention on CLS token...\n",
      "Initializing global attention on CLS token...\n",
      "Initializing global attention on CLS token...\n",
      "Initializing global attention on CLS token...\n",
      "Initializing global attention on CLS token...\n",
      "Initializing global attention on CLS token...\n",
      "Initializing global attention on CLS token...\n",
      "Initializing global attention on CLS token...\n",
      "Initializing global attention on CLS token...\n",
      "Initializing global attention on CLS token...\n",
      "Saving model checkpoint to /content/drive/My Drive/Colab Notebooks/Models/Longformer20News/checkpoint-120\n",
      "Configuration saved in /content/drive/My Drive/Colab Notebooks/Models/Longformer20News/checkpoint-120/config.json\n",
      "Model weights saved in /content/drive/My Drive/Colab Notebooks/Models/Longformer20News/checkpoint-120/pytorch_model.bin\n",
      "Initializing global attention on CLS token...\n",
      "Initializing global attention on CLS token...\n",
      "Initializing global attention on CLS token...\n",
      "Initializing global attention on CLS token...\n",
      "Initializing global attention on CLS token...\n",
      "Initializing global attention on CLS token...\n",
      "Initializing global attention on CLS token...\n",
      "Initializing global attention on CLS token...\n",
      "Initializing global attention on CLS token...\n",
      "Initializing global attention on CLS token...\n",
      "Initializing global attention on CLS token...\n",
      "Initializing global attention on CLS token...\n",
      "Initializing global attention on CLS token...\n",
      "Initializing global attention on CLS token...\n",
      "Initializing global attention on CLS token...\n",
      "Initializing global attention on CLS token...\n",
      "Initializing global attention on CLS token...\n",
      "Initializing global attention on CLS token...\n",
      "Initializing global attention on CLS token...\n",
      "Initializing global attention on CLS token...\n",
      "Initializing global attention on CLS token...\n",
      "Initializing global attention on CLS token...\n",
      "Initializing global attention on CLS token...\n",
      "Initializing global attention on CLS token...\n",
      "Initializing global attention on CLS token...\n",
      "Initializing global attention on CLS token...\n",
      "Initializing global attention on CLS token...\n",
      "Initializing global attention on CLS token...\n",
      "Initializing global attention on CLS token...\n",
      "Initializing global attention on CLS token...\n",
      "***** Running Evaluation *****\n",
      "  Num examples = 1506\n",
      "  Batch size = 24\n",
      "Initializing global attention on CLS token...\n",
      "Initializing global attention on CLS token...\n",
      "Initializing global attention on CLS token...\n",
      "Initializing global attention on CLS token...\n",
      "Initializing global attention on CLS token...\n",
      "Initializing global attention on CLS token...\n",
      "Initializing global attention on CLS token...\n",
      "Initializing global attention on CLS token...\n",
      "Initializing global attention on CLS token...\n",
      "Initializing global attention on CLS token...\n",
      "Initializing global attention on CLS token...\n",
      "Initializing global attention on CLS token...\n",
      "Initializing global attention on CLS token...\n",
      "Initializing global attention on CLS token...\n",
      "Initializing global attention on CLS token...\n",
      "Initializing global attention on CLS token...\n",
      "Initializing global attention on CLS token...\n",
      "Initializing global attention on CLS token...\n",
      "Initializing global attention on CLS token...\n",
      "Initializing global attention on CLS token...\n",
      "Initializing global attention on CLS token...\n",
      "Initializing global attention on CLS token...\n",
      "Initializing global attention on CLS token...\n",
      "Initializing global attention on CLS token...\n",
      "Initializing global attention on CLS token...\n",
      "Initializing global attention on CLS token...\n",
      "Initializing global attention on CLS token...\n",
      "Initializing global attention on CLS token...\n",
      "Initializing global attention on CLS token...\n",
      "Initializing global attention on CLS token...\n",
      "Initializing global attention on CLS token...\n",
      "Initializing global attention on CLS token...\n",
      "Initializing global attention on CLS token...\n",
      "Initializing global attention on CLS token...\n",
      "Initializing global attention on CLS token...\n",
      "Initializing global attention on CLS token...\n",
      "Initializing global attention on CLS token...\n",
      "Initializing global attention on CLS token...\n",
      "Initializing global attention on CLS token...\n",
      "Initializing global attention on CLS token...\n",
      "Initializing global attention on CLS token...\n",
      "Initializing global attention on CLS token...\n",
      "Initializing global attention on CLS token...\n",
      "Initializing global attention on CLS token...\n",
      "Initializing global attention on CLS token...\n",
      "Initializing global attention on CLS token...\n",
      "Initializing global attention on CLS token...\n",
      "Initializing global attention on CLS token...\n",
      "Initializing global attention on CLS token...\n",
      "Initializing global attention on CLS token...\n",
      "Initializing global attention on CLS token...\n",
      "Initializing global attention on CLS token...\n",
      "Initializing global attention on CLS token...\n",
      "Initializing global attention on CLS token...\n",
      "Initializing global attention on CLS token...\n",
      "Initializing global attention on CLS token...\n",
      "Initializing global attention on CLS token...\n",
      "Initializing global attention on CLS token...\n",
      "Initializing global attention on CLS token...\n",
      "Initializing global attention on CLS token...\n",
      "Initializing global attention on CLS token...\n",
      "Initializing global attention on CLS token...\n",
      "Initializing global attention on CLS token...\n",
      "Saving model checkpoint to /content/drive/My Drive/Colab Notebooks/Models/Longformer20News/checkpoint-150\n",
      "Configuration saved in /content/drive/My Drive/Colab Notebooks/Models/Longformer20News/checkpoint-150/config.json\n",
      "Model weights saved in /content/drive/My Drive/Colab Notebooks/Models/Longformer20News/checkpoint-150/pytorch_model.bin\n",
      "Initializing global attention on CLS token...\n",
      "Initializing global attention on CLS token...\n",
      "Initializing global attention on CLS token...\n",
      "Initializing global attention on CLS token...\n",
      "Initializing global attention on CLS token...\n",
      "Initializing global attention on CLS token...\n",
      "Initializing global attention on CLS token...\n",
      "Initializing global attention on CLS token...\n",
      "Initializing global attention on CLS token...\n",
      "Initializing global attention on CLS token...\n",
      "Initializing global attention on CLS token...\n",
      "Initializing global attention on CLS token...\n",
      "Initializing global attention on CLS token...\n",
      "Initializing global attention on CLS token...\n",
      "Initializing global attention on CLS token...\n",
      "Initializing global attention on CLS token...\n",
      "Initializing global attention on CLS token...\n",
      "Initializing global attention on CLS token...\n",
      "Initializing global attention on CLS token...\n",
      "Initializing global attention on CLS token...\n",
      "Initializing global attention on CLS token...\n",
      "Initializing global attention on CLS token...\n",
      "Initializing global attention on CLS token...\n",
      "Initializing global attention on CLS token...\n",
      "Initializing global attention on CLS token...\n",
      "Initializing global attention on CLS token...\n",
      "Initializing global attention on CLS token...\n",
      "Initializing global attention on CLS token...\n",
      "Initializing global attention on CLS token...\n",
      "Initializing global attention on CLS token...\n",
      "***** Running Evaluation *****\n",
      "  Num examples = 1506\n",
      "  Batch size = 24\n",
      "Initializing global attention on CLS token...\n",
      "Initializing global attention on CLS token...\n",
      "Initializing global attention on CLS token...\n",
      "Initializing global attention on CLS token...\n",
      "Initializing global attention on CLS token...\n",
      "Initializing global attention on CLS token...\n",
      "Initializing global attention on CLS token...\n",
      "Initializing global attention on CLS token...\n",
      "Initializing global attention on CLS token...\n",
      "Initializing global attention on CLS token...\n",
      "Initializing global attention on CLS token...\n",
      "Initializing global attention on CLS token...\n",
      "Initializing global attention on CLS token...\n",
      "Initializing global attention on CLS token...\n",
      "Initializing global attention on CLS token...\n",
      "Initializing global attention on CLS token...\n",
      "Initializing global attention on CLS token...\n",
      "Initializing global attention on CLS token...\n",
      "Initializing global attention on CLS token...\n",
      "Initializing global attention on CLS token...\n",
      "Initializing global attention on CLS token...\n",
      "Initializing global attention on CLS token...\n",
      "Initializing global attention on CLS token...\n",
      "Initializing global attention on CLS token...\n",
      "Initializing global attention on CLS token...\n",
      "Initializing global attention on CLS token...\n",
      "Initializing global attention on CLS token...\n",
      "Initializing global attention on CLS token...\n",
      "Initializing global attention on CLS token...\n",
      "Initializing global attention on CLS token...\n",
      "Initializing global attention on CLS token...\n",
      "Initializing global attention on CLS token...\n",
      "Initializing global attention on CLS token...\n",
      "Initializing global attention on CLS token...\n",
      "Initializing global attention on CLS token...\n",
      "Initializing global attention on CLS token...\n",
      "Initializing global attention on CLS token...\n",
      "Initializing global attention on CLS token...\n",
      "Initializing global attention on CLS token...\n",
      "Initializing global attention on CLS token...\n",
      "Initializing global attention on CLS token...\n",
      "Initializing global attention on CLS token...\n",
      "Initializing global attention on CLS token...\n",
      "Initializing global attention on CLS token...\n",
      "Initializing global attention on CLS token...\n",
      "Initializing global attention on CLS token...\n",
      "Initializing global attention on CLS token...\n",
      "Initializing global attention on CLS token...\n",
      "Initializing global attention on CLS token...\n",
      "Initializing global attention on CLS token...\n",
      "Initializing global attention on CLS token...\n",
      "Initializing global attention on CLS token...\n",
      "Initializing global attention on CLS token...\n",
      "Initializing global attention on CLS token...\n",
      "Initializing global attention on CLS token...\n",
      "Initializing global attention on CLS token...\n",
      "Initializing global attention on CLS token...\n",
      "Initializing global attention on CLS token...\n",
      "Initializing global attention on CLS token...\n",
      "Initializing global attention on CLS token...\n",
      "Initializing global attention on CLS token...\n",
      "Initializing global attention on CLS token...\n",
      "Initializing global attention on CLS token...\n",
      "Saving model checkpoint to /content/drive/My Drive/Colab Notebooks/Models/Longformer20News/checkpoint-180\n",
      "Configuration saved in /content/drive/My Drive/Colab Notebooks/Models/Longformer20News/checkpoint-180/config.json\n",
      "Model weights saved in /content/drive/My Drive/Colab Notebooks/Models/Longformer20News/checkpoint-180/pytorch_model.bin\n",
      "Initializing global attention on CLS token...\n",
      "Initializing global attention on CLS token...\n",
      "Initializing global attention on CLS token...\n",
      "Initializing global attention on CLS token...\n",
      "Initializing global attention on CLS token...\n",
      "Initializing global attention on CLS token...\n",
      "Initializing global attention on CLS token...\n",
      "Initializing global attention on CLS token...\n",
      "Initializing global attention on CLS token...\n",
      "Initializing global attention on CLS token...\n",
      "Initializing global attention on CLS token...\n",
      "Initializing global attention on CLS token...\n",
      "Initializing global attention on CLS token...\n",
      "Initializing global attention on CLS token...\n",
      "Initializing global attention on CLS token...\n",
      "Initializing global attention on CLS token...\n",
      "Initializing global attention on CLS token...\n",
      "Initializing global attention on CLS token...\n",
      "Initializing global attention on CLS token...\n",
      "Initializing global attention on CLS token...\n",
      "Initializing global attention on CLS token...\n",
      "Initializing global attention on CLS token...\n",
      "Initializing global attention on CLS token...\n",
      "Initializing global attention on CLS token...\n",
      "Initializing global attention on CLS token...\n",
      "Initializing global attention on CLS token...\n",
      "Initializing global attention on CLS token...\n",
      "Initializing global attention on CLS token...\n",
      "Initializing global attention on CLS token...\n",
      "Initializing global attention on CLS token...\n",
      "***** Running Evaluation *****\n",
      "  Num examples = 1506\n",
      "  Batch size = 24\n",
      "Initializing global attention on CLS token...\n",
      "Initializing global attention on CLS token...\n",
      "Initializing global attention on CLS token...\n",
      "Initializing global attention on CLS token...\n",
      "Initializing global attention on CLS token...\n",
      "Initializing global attention on CLS token...\n",
      "Initializing global attention on CLS token...\n",
      "Initializing global attention on CLS token...\n",
      "Initializing global attention on CLS token...\n",
      "Initializing global attention on CLS token...\n",
      "Initializing global attention on CLS token...\n",
      "Initializing global attention on CLS token...\n",
      "Initializing global attention on CLS token...\n",
      "Initializing global attention on CLS token...\n",
      "Initializing global attention on CLS token...\n",
      "Initializing global attention on CLS token...\n",
      "Initializing global attention on CLS token...\n",
      "Initializing global attention on CLS token...\n",
      "Initializing global attention on CLS token...\n",
      "Initializing global attention on CLS token...\n",
      "Initializing global attention on CLS token...\n",
      "Initializing global attention on CLS token...\n",
      "Initializing global attention on CLS token...\n",
      "Initializing global attention on CLS token...\n",
      "Initializing global attention on CLS token...\n",
      "Initializing global attention on CLS token...\n",
      "Initializing global attention on CLS token...\n",
      "Initializing global attention on CLS token...\n",
      "Initializing global attention on CLS token...\n",
      "Initializing global attention on CLS token...\n",
      "Initializing global attention on CLS token...\n",
      "Initializing global attention on CLS token...\n",
      "Initializing global attention on CLS token...\n",
      "Initializing global attention on CLS token...\n",
      "Initializing global attention on CLS token...\n",
      "Initializing global attention on CLS token...\n",
      "Initializing global attention on CLS token...\n",
      "Initializing global attention on CLS token...\n",
      "Initializing global attention on CLS token...\n",
      "Initializing global attention on CLS token...\n",
      "Initializing global attention on CLS token...\n",
      "Initializing global attention on CLS token...\n",
      "Initializing global attention on CLS token...\n",
      "Initializing global attention on CLS token...\n",
      "Initializing global attention on CLS token...\n",
      "Initializing global attention on CLS token...\n"
     ]
    }
   ],
   "source": [
    "trainer.train()"
   ]
  },
  {
   "cell_type": "code",
   "execution_count": null,
   "metadata": {
    "id": "oboVKiJsCzVt"
   },
   "outputs": [],
   "source": [
    "!nvidia-smi"
   ]
  }
 ],
 "metadata": {
  "accelerator": "GPU",
  "colab": {
   "collapsed_sections": [],
   "name": "Longformer For Long Text Classification.ipynb",
   "provenance": [],
   "toc_visible": true
  },
  "kernelspec": {
   "display_name": "Python 3",
   "language": "python",
   "name": "python3"
  },
  "language_info": {
   "codemirror_mode": {
    "name": "ipython",
    "version": 3
   },
   "file_extension": ".py",
   "mimetype": "text/x-python",
   "name": "python",
   "nbconvert_exporter": "python",
   "pygments_lexer": "ipython3",
   "version": "3.8.3"
  }
 },
 "nbformat": 4,
 "nbformat_minor": 1
}
